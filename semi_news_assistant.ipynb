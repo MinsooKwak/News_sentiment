{
 "cells": [
  {
   "cell_type": "markdown",
   "metadata": {},
   "source": [
    "- langchain, mongodb, openai(chatGPT), streamlit\n",
    "\n",
    "    - Mongodb > os에 맞게 설치 필요 > 커뮤니티에디션 설치(무료)\n",
    "\n",
    "        > 실시간 파이프라인 구성시 데이터 보내고 조회\n",
    "\n",
    "    - ChatGPT 확인 \n",
    "\n",
    "    - streamlit.io \n",
    "\n",
    "    ![alt text](image.png)\n",
    "\n",
    "    - Gemini, Claude 사용 가능"
   ]
  },
  {
   "cell_type": "markdown",
   "metadata": {},
   "source": [
    "- 아래 2가지 모듈을 Prompt Engineering으로 구현\n",
    "\n",
    "    1. 개체명 인식 & 엔티티 추출 (Named Entity Recognition & Entity Linking)\n",
    "\n",
    "        - LLM 등장 이후 prompt engineering으로 한 번에 해결 가능 \n",
    "        - 기존 ) 문장 분류 > 긍/부\n",
    "        - 변화 ) 문장 > 여러 Entity > Prompt Engineering으로 감성 개별 파악 \n",
    "\n",
    "        \n",
    "        > Query + Prompt : `Prompt : 주어진 뉴스 텍스트에서 기업명을 추출하고 ...`\n",
    "\n",
    "    </br>\n",
    "\n",
    "    2. Entity 중심의 감성 분석 (Aspect-based Sentiment Analysis)\n",
    "\n",
    "        - Prompt Engineering으로 구현\n",
    "\n",
    "        Text --> (prompt) --> Entity Linking & NER \n",
    "\n",
    "        Entity 중심의 sentiment 같이 추출하도록 입력 "
   ]
  },
  {
   "cell_type": "markdown",
   "metadata": {},
   "source": [
    "## NER\n",
    "- NER : 특정한 개체명(사람 이름, 장소, 조직, 날짜 등)을 식별하고 분류하는 작업 </br></br>\n",
    "- 목적 </br></br>\n",
    "    1. 개체명 식별 (Entity Detection) : 텍스트에서 개체명 포함된 부분 식별 </br></br>\n",
    "    2. 개체명 분류 (Entity Classification) : 식별된 개체명을 사전 정의 카테고리 (사람, 장소, 조직, 날짜 등) 분류"
   ]
  },
  {
   "cell_type": "markdown",
   "metadata": {},
   "source": [
    "### Spacy"
   ]
  },
  {
   "cell_type": "code",
   "execution_count": null,
   "metadata": {},
   "outputs": [],
   "source": [
    "# spacy (LLM 이전 NLP framework) -- displaCy / BERT > 오류가 있다 (alphabet/meta)\n",
    "# 분류 모델 / 생성 모델 차이 "
   ]
  },
  {
   "cell_type": "code",
   "execution_count": null,
   "metadata": {},
   "outputs": [],
   "source": [
    "# pip install spacy\n",
    "# python -m spacy download en_core_web_sm\n",
    "# python -m spacy download ko_core_news_sm"
   ]
  },
  {
   "cell_type": "code",
   "execution_count": null,
   "metadata": {},
   "outputs": [],
   "source": [
    "import spacy\n",
    "\n",
    "nlp = spacy.load('en_core_web_sm')\n",
    "\n",
    "document = 'To study this, we introduce two benchmarks with human ratings as the primary evaluation metric: MT-bench and Chatbot Arena. MT-bench is a series of open-ended questions that evaluate a chatbot’s multi-turn conversational and instruction-following ability – two critical elements for human preference.'\n",
    "\n",
    "doc = nlp(document)\n",
    "\n",
    "# Entity 타입 없는 것까지 추출\n",
    "\"\"\"\n",
    "for e in doc:\n",
    "    #if e.ent_type_ != \"\":\n",
    "    print(f\"{e} | {e.ent_type_}\")\n",
    "\"\"\"\n",
    "\n",
    "# Entity 있는 것만 추출\n",
    "for e in doc:\n",
    "    if e.ent_type_ != \"\":\n",
    "        print(f\"{e} | {e.ent_type_}\")"
   ]
  },
  {
   "cell_type": "code",
   "execution_count": null,
   "metadata": {},
   "outputs": [],
   "source": [
    "nlp_kr = spacy.load('en_core_web_sm')\n",
    "\n",
    "document_kr = '네이버가 대형언어모델(LLM) 하이퍼클로바X에 시각 정보 처리 능력을 업데이트,  대형멀티모달모델(LMM)로 업그레이드했다. 지난해 8월24일 하이퍼클로바X 공개 이후 1년만의 메이저 업데이트로, 이제는 외산 인공지능(AI) 챗봇들과 본격적인 경쟁을 펼치겠다는 의도다.'\n",
    "\n",
    "doc_kr = nlp(document_kr)\n",
    "\n",
    "# Entity 타입 없는 것까지 추출\n",
    "\"\"\"\n",
    "for e in doc:\n",
    "    #if e.ent_type_ != \"\":\n",
    "    print(f\"{e} | {e.ent_type_}\")\n",
    "\"\"\"\n",
    "\n",
    "# Entity 있는 것만 추출\n",
    "for e in doc_kr:\n",
    "    if e.ent_type_ != \"\":\n",
    "        print(f\"{e} | {e.ent_type_}\")"
   ]
  },
  {
   "cell_type": "code",
   "execution_count": null,
   "metadata": {},
   "outputs": [],
   "source": [
    "# Entity Linking (Facebook == Meta)\n",
    "# 생성 모델은 한 번에 처리할 수 있게 되는 것 "
   ]
  },
  {
   "cell_type": "markdown",
   "metadata": {},
   "source": [
    "### 생성 NER"
   ]
  },
  {
   "cell_type": "code",
   "execution_count": null,
   "metadata": {},
   "outputs": [],
   "source": [
    "# chatGPT에서 NER 수행\n",
    "\n",
    "prompt = '''\n",
    "아래 문장에서 개체명 인식을 수행하세요. \n",
    "아래 문장에서 사람 이름 (PERSON), 기업 이름 (ORG)에 해당하는 엔티티만을 추출하세요. \n",
    "엔티티의 문장 내 몇 번째 문자 [start, end]를 함께 출력하세요.\n",
    "출력 결과를 json 포맷으로 {0: {\"text\":alias, \"entity\": 분류결과(PERSON/ORG),\"position\":[0,2]},{1: ...}} 형식으로 출력하세요.\n",
    "\n",
    "네이버가 대형언어모델(LLM) 하이퍼클로바X에 시각 정보 처리 능력을 업데이트,  대형멀티모달모델(LMM)로 업그레이드했다. 지난해 8월24일 하이퍼클로바X 공개 이후 1년만의 메이저 업데이트로, 이제는 외산 인공지능(AI) 챗봇들과 본격적인 경쟁을 펼치겠다는 의도다.\n",
    "'''"
   ]
  },
  {
   "cell_type": "markdown",
   "metadata": {},
   "source": [
    "## Entity Linking (EL)"
   ]
  },
  {
   "cell_type": "markdown",
   "metadata": {},
   "source": [
    "- 알고자 하는 지식과 연결해주는 작업\n",
    "\n",
    "    - 기존 DL에서는 많이 사용\n",
    "\n",
    "    - LLM 등장 이후 지식베이스 힌트 없이도 ChatGPT 이후 가능 "
   ]
  },
  {
   "cell_type": "markdown",
   "metadata": {},
   "source": [
    "- Entity Linking : 텍스트 내 엔티티를 식별하고, 이를 구조화된 지식베이스의 엔티티와 연결하는 작업\n",
    "\n",
    "- Entity Ranking 필요성\n",
    "\n",
    "    1. 정보 검색 측면 : 사용자가 질문한 정보에 대한 정확한 답변 제공\n",
    "\n",
    "    2. 다양한 엔티티 표현의 통일화 : Facebook, Meta, Meta Platforms, Meta Platforms, Inc.\n",
    "    \n",
    "    3. 엔티티 필터링 : 다루고자 하는 지식 베이스에 연결된 엔티티를 필터링해 작업"
   ]
  },
  {
   "cell_type": "markdown",
   "metadata": {},
   "source": [
    "### Wikification\n",
    "\n",
    "- Wikification : 텍스트 내 엔티티를 식별하고, 식별된 엔티티를 Wikipedia 항목(지식)과 연결하는 기술\n",
    "\n",
    "- 지식 베이스르 매번 만들어줘야 하나? `통일화된 합의된 지식`을 사용한다. "
   ]
  },
  {
   "cell_type": "markdown",
   "metadata": {},
   "source": [
    "### WikiData\n",
    "- Wikidata : 위키미디어 재단에서 운영하는, 협력적으로 편집 가능한 지식 베이스 (고유 식별자로 구분)"
   ]
  },
  {
   "cell_type": "code",
   "execution_count": null,
   "metadata": {},
   "outputs": [],
   "source": [
    "# ChatGPT\n",
    "\n",
    "prompt = '''\n",
    "주어진 텍스트에 대해서, 지식베이스에 속한 기업을 추출하세요.\n",
    "지식베이스는 기업명 : 종목코드 형식으로 구성되어 있습니다.\n",
    "다음과 같은 포맷으로 출력하세요.\n",
    "{기업명: 종목코드, ...}\n",
    "반드시 텍스트에 표기되고, 지식베이스에 있는 기업명만을 추출합니다.\n",
    "지식베이스에 없는 기업은 생성하지 않습니다. 반드시 체크하세요.\n",
    "\n",
    "#지식베이스\n",
    "SK하이닉스: 001\n",
    "삼성바이오로직스 : 002\n",
    "현대농기계 : 003\n",
    "\n",
    "# 텍스트\n",
    "네이버가 대형언어모델(LLM) 하이퍼클로바X에 시각 정보 처리 능력을 업데이트,  대형멀티모달모델(LMM)로 업그레이드했다. 지난해 8월24일 하이퍼클로바X 공개 이후 1년만의 메이저 업데이트로, 이제는 외산 인공지능(AI) 챗봇들과 본격적인 경쟁을 펼치겠다는 의도다.\n",
    "'''"
   ]
  },
  {
   "cell_type": "markdown",
   "metadata": {},
   "source": [
    "길이가 길어지면서 할루시네이션 발생.\n",
    "NER 하고 Entity Linking 하는 방향 "
   ]
  },
  {
   "cell_type": "markdown",
   "metadata": {},
   "source": [
    "### 분류 기반 감성 분석"
   ]
  },
  {
   "cell_type": "code",
   "execution_count": null,
   "metadata": {},
   "outputs": [],
   "source": [
    "#!pip install transformers\n",
    "#!pip3 install torch torchvision torchaudio\n",
    "#conda install pytorch torchvision torchaudio -c pytorch\n",
    "#conda update -n base -c defaults conda"
   ]
  },
  {
   "cell_type": "code",
   "execution_count": 4,
   "metadata": {},
   "outputs": [],
   "source": [
    "# HuggingFace > FinBERT > Use this Model\n",
    "from transformers import pipeline\n",
    "\n",
    "pipe = pipeline(\"text-classification\", model=\"ProsusAI/finbert\")"
   ]
  },
  {
   "cell_type": "code",
   "execution_count": 6,
   "metadata": {},
   "outputs": [
    {
     "name": "stdout",
     "output_type": "stream",
     "text": [
      "[{'label': 'neutral', 'score': 0.9039522409439087}]\n"
     ]
    }
   ],
   "source": [
    "print(pipe(\"네이버가 대형언어모델(LLM) 하이퍼클로바X에 시각 정보 처리 능력을 업데이트,  대형멀티모달모델(LMM)로 업그레이드했다. 지난해 8월24일 하이퍼클로바X 공개 이후 1년만의 메이저 업데이트로, 이제는 외산 인공지능(AI) 챗봇들과 본격적인 경쟁을 펼치겠다는 의도다.\"))"
   ]
  },
  {
   "cell_type": "code",
   "execution_count": 11,
   "metadata": {},
   "outputs": [
    {
     "name": "stdout",
     "output_type": "stream",
     "text": [
      "[{'label': 'positive', 'score': 0.9494152665138245}]\n"
     ]
    }
   ],
   "source": [
    "print(pipe(\"Meta reported strong fincancial resutls for Q1 2024\"))"
   ]
  },
  {
   "cell_type": "code",
   "execution_count": 13,
   "metadata": {},
   "outputs": [
    {
     "name": "stdout",
     "output_type": "stream",
     "text": [
      "[{'label': 'negative', 'score': 0.8703081011772156}]\n"
     ]
    }
   ],
   "source": [
    "print(pipe(\"meta reported strong financial results for Q1 2024, but Tesla released its financial result\"))"
   ]
  },
  {
   "cell_type": "markdown",
   "metadata": {},
   "source": [
    "- 고전적 방법의 경우 한 문장에 여러 감정이 있는 경우 오류가 날 수 있다. \n",
    "- 분류 기반은 정의된 감성에 대해서만 분류되는 한계\n",
    "- 생성은 강점이 더 많음. 분류 기반은 긍,부,중의 한계. 생성은 고도화된 감정 가능."
   ]
  },
  {
   "cell_type": "code",
   "execution_count": null,
   "metadata": {},
   "outputs": [],
   "source": []
  }
 ],
 "metadata": {
  "kernelspec": {
   "display_name": "spacy_ner",
   "language": "python",
   "name": "python3"
  },
  "language_info": {
   "codemirror_mode": {
    "name": "ipython",
    "version": 3
   },
   "file_extension": ".py",
   "mimetype": "text/x-python",
   "name": "python",
   "nbconvert_exporter": "python",
   "pygments_lexer": "ipython3",
   "version": "3.10.14"
  }
 },
 "nbformat": 4,
 "nbformat_minor": 2
}
